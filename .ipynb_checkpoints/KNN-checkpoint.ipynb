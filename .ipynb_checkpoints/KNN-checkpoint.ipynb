{
 "cells": [
  {
   "cell_type": "markdown",
   "metadata": {},
   "source": [
    "## K- 近邻算法\n",
    "### 基本原理：\n",
    "The first machine-learning algorithm we’ll look at is k-Nearest Neighbors (k NN ). It\n",
    "works like this: we have an existing set of example data, our training set. We have\n",
    "labels for all of this data—we know what class each piece of the data should fall into.\n",
    "When we’re given a new piece of data without a label, we compare that new piece of\n",
    "data to the existing data, every piece of existing data. We then take the most similar\n",
    "pieces of data (the nearest neighbors) and look at their labels. We look at the top k\n",
    "most similar pieces of data from our known dataset; this is where the k comes from. (k\n",
    "is an integer and it’s usually less than 20.) Lastly, we take a majority vote from the k\n",
    "most similar pieces of data, and the majority is the new class we assign to the data we\n",
    "were asked to classify."
   ]
  },
  {
   "cell_type": "code",
   "execution_count": 1,
   "metadata": {
    "collapsed": true
   },
   "outputs": [],
   "source": [
    "import numpy as np\n",
    "import operator"
   ]
  },
  {
   "cell_type": "code",
   "execution_count": 2,
   "metadata": {
    "collapsed": false
   },
   "outputs": [],
   "source": [
    "def classify0(inX, dataSet, labels, k):\n",
    "    dataSetSize =dataSet.shape[0]\n",
    "    # 计算距离\n",
    "    diffMat = np.tile(inX, (dataSetSize, 1))- dataSet\n",
    "    sqDiffMat = diffMat**2\n",
    "    sqDistance = sqDiffMat.sum(axis=1)\n",
    "    Distance = sqDistance**0.5\n",
    "    sortedDistance = Distance.argsort()\n",
    "    \n",
    "    classCount = {}\n",
    "    for i in range(k):\n",
    "        voteIlabel = labels[sortedDistance[i]]\n",
    "        classCount[voteIlabel] = classCount.get(voteIlabel, 0) + 1\n",
    "        \n",
    "    sortedClassCount = sorted(classCount.items(), key = operator.itemgetter(1), reverse = True)\n",
    "   \n",
    "    '''\n",
    "    print('diffMat=%s' %diffMat)\n",
    "    print('-'*50)\n",
    "    print('sqDiffMat=%s' %sqDiffMat)\n",
    "    print('-'*20)\n",
    "    print('sqDistance=%s' %sqDistance)\n",
    "    print('-'*20)\n",
    "    print('Distance=%s' %Distance)\n",
    "    print('-'*20)\n",
    "    print('sortedDistance=%s' %sortedDistance)\n",
    "    print('-'*20)\n",
    "    print('sortedClassCount=%s' %sortedClassCount)\n",
    "    print('-'*20)\n",
    "    '''   \n",
    "    return sortedClassCount[0][0]"
   ]
  },
  {
   "cell_type": "code",
   "execution_count": 3,
   "metadata": {
    "collapsed": true
   },
   "outputs": [],
   "source": [
    "group = np.array([[1.0, 1.1], [1.0, 1.0], [0, 0], [0, 0.1]])\n",
    "labels = ['A', 'A', 'B', 'B']"
   ]
  },
  {
   "cell_type": "code",
   "execution_count": 4,
   "metadata": {
    "collapsed": false
   },
   "outputs": [
    {
     "data": {
      "text/plain": [
       "array([[ 1. ,  1.1],\n",
       "       [ 1. ,  1. ],\n",
       "       [ 0. ,  0. ],\n",
       "       [ 0. ,  0.1]])"
      ]
     },
     "execution_count": 4,
     "metadata": {},
     "output_type": "execute_result"
    }
   ],
   "source": [
    "group"
   ]
  },
  {
   "cell_type": "code",
   "execution_count": 5,
   "metadata": {
    "collapsed": false
   },
   "outputs": [
    {
     "data": {
      "text/plain": [
       "'B'"
      ]
     },
     "execution_count": 5,
     "metadata": {},
     "output_type": "execute_result"
    }
   ],
   "source": [
    "classify0([0,0], group, labels, 3)"
   ]
  },
  {
   "cell_type": "markdown",
   "metadata": {},
   "source": [
    "#### numpy broadcasting\n",
    "![numpy broadcasting](http://www.scipy-lectures.org/_images/numpy_broadcasting.png)\n",
    "\n",
    "## ?np.tile<http://docs.scipy.org/doc/numpy-1.10.0/reference/generated/numpy.tile.html>\n",
    " "
   ]
  },
  {
   "cell_type": "markdown",
   "metadata": {},
   "source": [
    "## 把文件转换成我们需要的格式"
   ]
  },
  {
   "cell_type": "code",
   "execution_count": 6,
   "metadata": {
    "collapsed": true
   },
   "outputs": [],
   "source": [
    "def file2matrix(filename):\n",
    "    love_dictionary={'largeDoses':3, 'smallDoses':2, 'didntLike':1}\n",
    "    fr = open(filename)\n",
    "    arrayOLines = fr.readlines()\n",
    "    numberOfLines = len(arrayOLines)            #get the number of lines in the file\n",
    "    returnMat = np.zeros((numberOfLines,3))        #prepare matrix to return\n",
    "    classLabelVector = []     #prepare labels return   \n",
    "    \n",
    "    index = 0\n",
    "    for line in arrayOLines:\n",
    "        line = line.strip()\n",
    "        listFromLine = line.split('\\t')\n",
    "        returnMat[index,:] = listFromLine[0:3]\n",
    "        if(listFromLine[-1].isdigit()):\n",
    "            classLabelVector.append(int(listFromLine[-1]))\n",
    "        else:\n",
    "            classLabelVector.append(love_dictionary.get(listFromLine[-1]))\n",
    "        index += 1\n",
    "    return returnMat,classLabelVector\n"
   ]
  },
  {
   "cell_type": "markdown",
   "metadata": {},
   "source": [
    "## 简单的测试"
   ]
  },
  {
   "cell_type": "code",
   "execution_count": 7,
   "metadata": {
    "collapsed": false
   },
   "outputs": [],
   "source": [
    "datingDataMat, datingLabels = file2matrix('datingTestSet2.txt')"
   ]
  },
  {
   "cell_type": "code",
   "execution_count": 8,
   "metadata": {
    "collapsed": false
   },
   "outputs": [
    {
     "data": {
      "text/plain": [
       "array([[  4.09200000e+04,   8.32697600e+00,   9.53952000e-01],\n",
       "       [  1.44880000e+04,   7.15346900e+00,   1.67390400e+00],\n",
       "       [  2.60520000e+04,   1.44187100e+00,   8.05124000e-01],\n",
       "       ..., \n",
       "       [  2.65750000e+04,   1.06501020e+01,   8.66627000e-01],\n",
       "       [  4.81110000e+04,   9.13452800e+00,   7.28045000e-01],\n",
       "       [  4.37570000e+04,   7.88260100e+00,   1.33244600e+00]])"
      ]
     },
     "execution_count": 8,
     "metadata": {},
     "output_type": "execute_result"
    }
   ],
   "source": [
    "datingDataMat"
   ]
  },
  {
   "cell_type": "code",
   "execution_count": 9,
   "metadata": {
    "collapsed": false
   },
   "outputs": [
    {
     "data": {
      "text/plain": [
       "[3, 2, 1, 1, 1, 1, 3, 3, 1, 3]"
      ]
     },
     "execution_count": 9,
     "metadata": {},
     "output_type": "execute_result"
    }
   ],
   "source": [
    "datingLabels[:10]"
   ]
  },
  {
   "cell_type": "code",
   "execution_count": 10,
   "metadata": {
    "collapsed": true
   },
   "outputs": [],
   "source": [
    "aman = [4000, 15, 5]"
   ]
  },
  {
   "cell_type": "code",
   "execution_count": 11,
   "metadata": {
    "collapsed": false
   },
   "outputs": [
    {
     "data": {
      "text/plain": [
       "2"
      ]
     },
     "execution_count": 11,
     "metadata": {},
     "output_type": "execute_result"
    }
   ],
   "source": [
    "classify0(aman, datingDataMat, datingLabels, k=5)"
   ]
  },
  {
   "cell_type": "markdown",
   "metadata": {},
   "source": [
    "## 归一化数值\n",
    "### 为什么要归一化\n",
    "对于以上三个属性，我们很容易　，每年获取的飞行里程数对于计算结果的影响远大于其他两个属性－－－玩游戏和每周消耗的冰淇淋。产生这一现象的原因仅仅是因为飞行里程的数值远大于其他两个属性的数值。但是，我们并不认为第一个属性的重要性远大于其他两个，因此作为三个等权重的属性，飞行里程不应该如此严重的影响计算结果。方法就是把数据归一化到－１～１或０－１之间。具体方法如下\n",
    "### 线性归一化\n",
    "![线性归一化](https://upload.wikimedia.org/math/7/6/5/76512b142c1b7e27e8a7e7eb1fc11225.png)\n",
    " 这种归一化方法比较适用在数值比较集中的情况。这种方法有个缺陷，如果max和min不稳定，很容易使得归一化结果不稳定，使得后续使用效果也不稳定。实际使用中可以用经验常量值来替代max和min。\n",
    " ### 标准差归一化\n",
    " 经过处理的数据符合标准正态分布，即均值为0，标准差为1，其转化函数为：\n",
    " ![标准差归一化](http://webdataanalysis.net/wp-content/uploads/2010/02/z-score.png)"
   ]
  },
  {
   "cell_type": "code",
   "execution_count": 33,
   "metadata": {
    "collapsed": true
   },
   "outputs": [],
   "source": [
    "def autoNorm(dataset):\n",
    "    minVals = dataset.min(0)\n",
    "    maxVals = dataset.max(0)\n",
    "    ranges = maxVals - minVals\n",
    "    normDataSet = np.zeros(np.shape(dataset))\n",
    "    m = dataset.shape[0]\n",
    "    normDataSet = dataset -np.tile(minVals, (m, 1))\n",
    "    normDataSet = normDataSet/np.tile(ranges, (m,1))\n",
    "    \n",
    "    #print(minVals,maxVals,ranges)\n",
    "    \n",
    "    return normDataSet, minVals, ranges"
   ]
  },
  {
   "cell_type": "code",
   "execution_count": 34,
   "metadata": {
    "collapsed": false
   },
   "outputs": [],
   "source": [
    "normDatingDataSet, minVals, ranges = autoNorm(datingDataMat)"
   ]
  },
  {
   "cell_type": "code",
   "execution_count": 35,
   "metadata": {
    "collapsed": false
   },
   "outputs": [
    {
     "data": {
      "text/plain": [
       "1000"
      ]
     },
     "execution_count": 35,
     "metadata": {},
     "output_type": "execute_result"
    }
   ],
   "source": [
    "len(normDatingDataSet)"
   ]
  },
  {
   "cell_type": "code",
   "execution_count": 36,
   "metadata": {
    "collapsed": false
   },
   "outputs": [
    {
     "data": {
      "text/plain": [
       "1"
      ]
     },
     "execution_count": 36,
     "metadata": {},
     "output_type": "execute_result"
    }
   ],
   "source": [
    "classify0(aman, normDatingDataSet, datingLabels, k=5)"
   ]
  },
  {
   "cell_type": "markdown",
   "metadata": {
    "collapsed": true
   },
   "source": [
    "## 测试算法"
   ]
  },
  {
   "cell_type": "code",
   "execution_count": 37,
   "metadata": {
    "collapsed": true
   },
   "outputs": [],
   "source": [
    "def datingClassTest():\n",
    "    hoRatio = 0.1\n",
    "    datingDataMat, datingLabels = file2matrix('datingTestSet.txt')\n",
    "    normMat, minVals, ranges = autoNorm(datingDataMat)\n",
    "    m = normMat.shape[0]\n",
    "    numTestVecs = int(m*hoRatio)\n",
    "    errorcount = 0\n",
    "    for i in range(numTestVecs):\n",
    "        classifierResult = classify0(normMat[i, :], normMat[numTestVecs:, :], datingLabels[numTestVecs: ], k=3)\n",
    "        print(\"the classifier call back with: %d, the real answer is: %d\" %(classifierResult, datingLabels[i] ))\n",
    "        \n",
    "        if classifierResult != datingLabels[i]:\n",
    "            errorcount += 1\n",
    "    \n",
    "    print('the total error rate is: %f' %(errorcount/numTestVecs))\n",
    "        \n",
    "    "
   ]
  },
  {
   "cell_type": "code",
   "execution_count": 38,
   "metadata": {
    "collapsed": false,
    "scrolled": true
   },
   "outputs": [
    {
     "name": "stdout",
     "output_type": "stream",
     "text": [
      "the classifier call back with: 3, the real answer is: 3\n",
      "the classifier call back with: 2, the real answer is: 2\n",
      "the classifier call back with: 1, the real answer is: 1\n",
      "the classifier call back with: 1, the real answer is: 1\n",
      "the classifier call back with: 1, the real answer is: 1\n",
      "the classifier call back with: 1, the real answer is: 1\n",
      "the classifier call back with: 3, the real answer is: 3\n",
      "the classifier call back with: 3, the real answer is: 3\n",
      "the classifier call back with: 1, the real answer is: 1\n",
      "the classifier call back with: 3, the real answer is: 3\n",
      "the classifier call back with: 1, the real answer is: 1\n",
      "the classifier call back with: 1, the real answer is: 1\n",
      "the classifier call back with: 2, the real answer is: 2\n",
      "the classifier call back with: 1, the real answer is: 1\n",
      "the classifier call back with: 1, the real answer is: 1\n",
      "the classifier call back with: 1, the real answer is: 1\n",
      "the classifier call back with: 1, the real answer is: 1\n",
      "the classifier call back with: 1, the real answer is: 1\n",
      "the classifier call back with: 2, the real answer is: 2\n",
      "the classifier call back with: 3, the real answer is: 3\n",
      "the classifier call back with: 2, the real answer is: 2\n",
      "the classifier call back with: 1, the real answer is: 1\n",
      "the classifier call back with: 1, the real answer is: 2\n",
      "the classifier call back with: 3, the real answer is: 3\n",
      "the classifier call back with: 2, the real answer is: 2\n",
      "the classifier call back with: 3, the real answer is: 3\n",
      "the classifier call back with: 2, the real answer is: 2\n",
      "the classifier call back with: 3, the real answer is: 3\n",
      "the classifier call back with: 2, the real answer is: 2\n",
      "the classifier call back with: 1, the real answer is: 1\n",
      "the classifier call back with: 3, the real answer is: 3\n",
      "the classifier call back with: 1, the real answer is: 1\n",
      "the classifier call back with: 3, the real answer is: 3\n",
      "the classifier call back with: 1, the real answer is: 1\n",
      "the classifier call back with: 2, the real answer is: 2\n",
      "the classifier call back with: 1, the real answer is: 1\n",
      "the classifier call back with: 1, the real answer is: 1\n",
      "the classifier call back with: 2, the real answer is: 2\n",
      "the classifier call back with: 3, the real answer is: 3\n",
      "the classifier call back with: 3, the real answer is: 3\n",
      "the classifier call back with: 1, the real answer is: 1\n",
      "the classifier call back with: 2, the real answer is: 2\n",
      "the classifier call back with: 3, the real answer is: 3\n",
      "the classifier call back with: 3, the real answer is: 3\n",
      "the classifier call back with: 3, the real answer is: 3\n",
      "the classifier call back with: 1, the real answer is: 1\n",
      "the classifier call back with: 1, the real answer is: 1\n",
      "the classifier call back with: 1, the real answer is: 1\n",
      "the classifier call back with: 1, the real answer is: 1\n",
      "the classifier call back with: 2, the real answer is: 2\n",
      "the classifier call back with: 2, the real answer is: 2\n",
      "the classifier call back with: 1, the real answer is: 1\n",
      "the classifier call back with: 3, the real answer is: 3\n",
      "the classifier call back with: 2, the real answer is: 2\n",
      "the classifier call back with: 2, the real answer is: 2\n",
      "the classifier call back with: 2, the real answer is: 2\n",
      "the classifier call back with: 2, the real answer is: 2\n",
      "the classifier call back with: 3, the real answer is: 3\n",
      "the classifier call back with: 1, the real answer is: 1\n",
      "the classifier call back with: 2, the real answer is: 2\n",
      "the classifier call back with: 1, the real answer is: 1\n",
      "the classifier call back with: 2, the real answer is: 2\n",
      "the classifier call back with: 2, the real answer is: 2\n",
      "the classifier call back with: 2, the real answer is: 2\n",
      "the classifier call back with: 2, the real answer is: 2\n",
      "the classifier call back with: 2, the real answer is: 2\n",
      "the classifier call back with: 3, the real answer is: 3\n",
      "the classifier call back with: 2, the real answer is: 2\n",
      "the classifier call back with: 3, the real answer is: 3\n",
      "the classifier call back with: 1, the real answer is: 1\n",
      "the classifier call back with: 2, the real answer is: 2\n",
      "the classifier call back with: 3, the real answer is: 3\n",
      "the classifier call back with: 2, the real answer is: 2\n",
      "the classifier call back with: 2, the real answer is: 2\n",
      "the classifier call back with: 3, the real answer is: 1\n",
      "the classifier call back with: 3, the real answer is: 3\n",
      "the classifier call back with: 1, the real answer is: 1\n",
      "the classifier call back with: 1, the real answer is: 1\n",
      "the classifier call back with: 3, the real answer is: 3\n",
      "the classifier call back with: 3, the real answer is: 3\n",
      "the classifier call back with: 1, the real answer is: 1\n",
      "the classifier call back with: 2, the real answer is: 2\n",
      "the classifier call back with: 3, the real answer is: 3\n",
      "the classifier call back with: 3, the real answer is: 1\n",
      "the classifier call back with: 3, the real answer is: 3\n",
      "the classifier call back with: 1, the real answer is: 1\n",
      "the classifier call back with: 2, the real answer is: 2\n",
      "the classifier call back with: 2, the real answer is: 2\n",
      "the classifier call back with: 1, the real answer is: 1\n",
      "the classifier call back with: 1, the real answer is: 1\n",
      "the classifier call back with: 3, the real answer is: 3\n",
      "the classifier call back with: 2, the real answer is: 3\n",
      "the classifier call back with: 1, the real answer is: 1\n",
      "the classifier call back with: 2, the real answer is: 2\n",
      "the classifier call back with: 1, the real answer is: 1\n",
      "the classifier call back with: 3, the real answer is: 3\n",
      "the classifier call back with: 3, the real answer is: 3\n",
      "the classifier call back with: 2, the real answer is: 2\n",
      "the classifier call back with: 1, the real answer is: 1\n",
      "the classifier call back with: 3, the real answer is: 1\n",
      "the total error rate is: 0.050000\n"
     ]
    }
   ],
   "source": [
    "datingClassTest()"
   ]
  },
  {
   "cell_type": "markdown",
   "metadata": {},
   "source": [
    "## 构建完整系统"
   ]
  },
  {
   "cell_type": "code",
   "execution_count": 39,
   "metadata": {
    "collapsed": true
   },
   "outputs": [],
   "source": [
    "def classifyPerson():\n",
    "    resultList = ['not at all', 'in small doses', 'in large doses']\n",
    "    persentTats = float(input('persentage of time spent playing video games?'))\n",
    "    ffMiles = float(input('frequent flier miles earned per year?'))\n",
    "    iceCream = float(input('liters of ic cream consumed per year?'))\n",
    "    datingDataMat, datingLabels = file2matrix('datingTestSet2.txt')\n",
    "    normMat, minVals, ranges = autoNorm(datingDataMat)\n",
    "    inArr = np.array([ffMiles, persentTats, iceCream])\n",
    "    normArr =(inArr-minVals)/ranges\n",
    "    classifierResult = classify0(normArr, normMat, datingLabels, k=3)\n",
    "    return resultList[classifierResult-1]"
   ]
  },
  {
   "cell_type": "code",
   "execution_count": 41,
   "metadata": {
    "collapsed": false
   },
   "outputs": [
    {
     "name": "stdout",
     "output_type": "stream",
     "text": [
      "persentage of time spent playing video games?30\n",
      "frequent flier miles earned per year?4333\n",
      "liters of ic cream consumed per year?34\n"
     ]
    },
    {
     "data": {
      "text/plain": [
       "'in large doses'"
      ]
     },
     "execution_count": 41,
     "metadata": {},
     "output_type": "execute_result"
    }
   ],
   "source": [
    "classifyPerson()"
   ]
  },
  {
   "cell_type": "code",
   "execution_count": null,
   "metadata": {
    "collapsed": true
   },
   "outputs": [],
   "source": []
  }
 ],
 "metadata": {
  "kernelspec": {
   "display_name": "Python 3",
   "language": "python",
   "name": "python3"
  },
  "language_info": {
   "codemirror_mode": {
    "name": "ipython",
    "version": 3
   },
   "file_extension": ".py",
   "mimetype": "text/x-python",
   "name": "python",
   "nbconvert_exporter": "python",
   "pygments_lexer": "ipython3",
   "version": "3.5.1"
  }
 },
 "nbformat": 4,
 "nbformat_minor": 0
}
