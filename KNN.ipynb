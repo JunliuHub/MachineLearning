{
 "cells": [
  {
   "cell_type": "markdown",
   "metadata": {},
   "source": [
    "## K- 近邻算法\n",
    "### 基本原理：\n",
    "The first machine-learning algorithm we’ll look at is k-Nearest Neighbors (k NN ). It\n",
    "works like this: we have an existing set of example data, our training set. We have\n",
    "labels for all of this data—we know what class each piece of the data should fall into.\n",
    "When we’re given a new piece of data without a label, we compare that new piece of\n",
    "data to the existing data, every piece of existing data. We then take the most similar\n",
    "pieces of data (the nearest neighbors) and look at their labels. We look at the top k\n",
    "most similar pieces of data from our known dataset; this is where the k comes from. (k\n",
    "is an integer and it’s usually less than 20.) Lastly, we take a majority vote from the k\n",
    "most similar pieces of data, and the majority is the new class we assign to the data we\n",
    "were asked to classify."
   ]
  },
  {
   "cell_type": "code",
   "execution_count": 18,
   "metadata": {
    "collapsed": true
   },
   "outputs": [],
   "source": [
    "import numpy as np\n",
    "import operator"
   ]
  },
  {
   "cell_type": "code",
   "execution_count": 89,
   "metadata": {
    "collapsed": false
   },
   "outputs": [],
   "source": [
    "def classify0(inX, dataSet, labels, k):\n",
    "    dataSetSize =dataSet.shape[0]\n",
    "    # 计算距离\n",
    "    diffMat = np.tile(inX, (dataSetSize, 1))- dataSet\n",
    "    sqDiffMat = diffMat**2\n",
    "    sqDistance = sqDiffMat.sum(axis=1)\n",
    "    Distance = sqDistance**0.5\n",
    "    sortedDistance = Distance.argsort()\n",
    "    \n",
    "    classCount = {}\n",
    "    for i in range(k):\n",
    "        voteIlabel = labels[sortedDistance[i]]\n",
    "        classCount[voteIlabel] = classCount.get(voteIlabel, 0) + 1\n",
    "        \n",
    "    sortedClassCount = sorted(classCount.items(), key = operator.itemgetter(1), reverse = True)\n",
    "   \n",
    "    '''\n",
    "    print('diffMat=%s' %diffMat)\n",
    "    print('-'*50)\n",
    "    print('sqDiffMat=%s' %sqDiffMat)\n",
    "    print('-'*20)\n",
    "    print('sqDistance=%s' %sqDistance)\n",
    "    print('-'*20)\n",
    "    print('Distance=%s' %Distance)\n",
    "    print('-'*20)\n",
    "    print('sortedDistance=%s' %sortedDistance)\n",
    "    print('-'*20)\n",
    "    print('sortedClassCount=%s' %sortedClassCount)\n",
    "    print('-'*20)\n",
    "    '''   \n",
    "    return sortedClassCount[0][0]"
   ]
  },
  {
   "cell_type": "code",
   "execution_count": 90,
   "metadata": {
    "collapsed": true
   },
   "outputs": [],
   "source": [
    "group = np.array([[1.0, 1.1], [1.0, 1.0], [0, 0], [0, 0.1]])\n",
    "labels = ['A', 'A', 'B', 'B']"
   ]
  },
  {
   "cell_type": "code",
   "execution_count": 91,
   "metadata": {
    "collapsed": false
   },
   "outputs": [
    {
     "data": {
      "text/plain": [
       "array([[ 1. ,  1.1],\n",
       "       [ 1. ,  1. ],\n",
       "       [ 0. ,  0. ],\n",
       "       [ 0. ,  0.1]])"
      ]
     },
     "execution_count": 91,
     "metadata": {},
     "output_type": "execute_result"
    }
   ],
   "source": [
    "group"
   ]
  },
  {
   "cell_type": "code",
   "execution_count": 92,
   "metadata": {
    "collapsed": false
   },
   "outputs": [
    {
     "data": {
      "text/plain": [
       "'B'"
      ]
     },
     "execution_count": 92,
     "metadata": {},
     "output_type": "execute_result"
    }
   ],
   "source": [
    "classify0([0,0], group, labels, 3)"
   ]
  },
  {
   "cell_type": "markdown",
   "metadata": {},
   "source": [
    "#### numpy broadcasting\n",
    "![numpy broadcasting](http://www.scipy-lectures.org/_images/numpy_broadcasting.png)\n",
    "\n",
    "## ?np.tile<http://docs.scipy.org/doc/numpy-1.10.0/reference/generated/numpy.tile.html>\n",
    " "
   ]
  },
  {
   "cell_type": "code",
   "execution_count": null,
   "metadata": {
    "collapsed": true
   },
   "outputs": [],
   "source": []
  }
 ],
 "metadata": {
  "kernelspec": {
   "display_name": "Python 3",
   "language": "python",
   "name": "python3"
  },
  "language_info": {
   "codemirror_mode": {
    "name": "ipython",
    "version": 3
   },
   "file_extension": ".py",
   "mimetype": "text/x-python",
   "name": "python",
   "nbconvert_exporter": "python",
   "pygments_lexer": "ipython3",
   "version": "3.5.1"
  }
 },
 "nbformat": 4,
 "nbformat_minor": 0
}
